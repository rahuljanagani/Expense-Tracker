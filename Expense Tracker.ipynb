{
 "cells": [
  {
   "cell_type": "code",
   "execution_count": null,
   "id": "d09809e9-f87f-431b-b41c-7cfacb7b355e",
   "metadata": {},
   "outputs": [],
   "source": [
    "def add_expense(expenses, amount, category):\n",
    "    expenses.append({'amount': amount, 'category': category})\n",
    "    \n",
    "def print_expenses(expenses):\n",
    "    for expense in expenses:\n",
    "        print(f'Amount: {expense[\"amount\"]}, Category: {expense[\"category\"]}')\n",
    "    \n",
    "def total_expenses(expenses):\n",
    "    return sum(map(lambda expense: expense['amount'], expenses))\n",
    "    \n",
    "def filter_expenses_by_category(expenses, category):\n",
    "    return filter(lambda expense: expense['category'] == category, expenses)\n",
    "    \n",
    "\n",
    "def main():\n",
    "    expenses = []\n",
    "    while True:\n",
    "        print('\\nExpense Tracker')\n",
    "        print('1. Add an expense')\n",
    "        print('2. List all expenses')\n",
    "        print('3. Show total expenses')\n",
    "        print('4. Filter expenses by category')\n",
    "        print('5. Exit')\n",
    "        \n",
    "        choice = input('Enter your choice: ')\n",
    "\n",
    "        if choice == '1':\n",
    "            amount = float(input('Enter amount: '))\n",
    "            category = input('Enter category: ')\n",
    "            add_expense(expenses, amount, category)\n",
    "\n",
    "        elif choice == '2':\n",
    "            print('\\nAll Expenses:')\n",
    "            print_expenses(expenses)\n",
    "\n",
    "        elif choice == '3':\n",
    "            print('\\nTotal Expenses: ', total_expenses(expenses))\n",
    "\n",
    "        elif choice == '4':\n",
    "            category = input('Enter category to filter: ')\n",
    "            print(f'\\nExpenses for {category}:')\n",
    "            expenses_from_category = filter_expenses_by_category(expenses, category)\n",
    "            print_expenses(expenses_from_category)\n",
    "\n",
    "        elif choice == '5':\n",
    "            print('Exiting the program.')\n",
    "            break\n",
    "\n",
    "main()\n",
    "if __name__ == '__main__':\n",
    "        main()\n",
    "    "
   ]
  },
  {
   "cell_type": "code",
   "execution_count": null,
   "id": "72752867-bd2e-4a12-a32a-2619a9ee83e5",
   "metadata": {},
   "outputs": [],
   "source": []
  }
 ],
 "metadata": {
  "kernelspec": {
   "display_name": "Python 3 (ipykernel)",
   "language": "python",
   "name": "python3"
  },
  "language_info": {
   "codemirror_mode": {
    "name": "ipython",
    "version": 3
   },
   "file_extension": ".py",
   "mimetype": "text/x-python",
   "name": "python",
   "nbconvert_exporter": "python",
   "pygments_lexer": "ipython3",
   "version": "3.11.7"
  }
 },
 "nbformat": 4,
 "nbformat_minor": 5
}
